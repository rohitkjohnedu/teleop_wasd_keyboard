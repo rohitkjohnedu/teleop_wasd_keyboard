{
 "cells": [
  {
   "cell_type": "markdown",
   "metadata": {},
   "source": [
    "# Checking the output of the tester subscriber\n",
    "To check if the acceleration is within the maximum value"
   ]
  },
  {
   "cell_type": "code",
   "execution_count": null,
   "metadata": {},
   "outputs": [],
   "source": [
    "from matplotlib import pyplot as plt\n",
    "import json\n",
    "with open('out.json', 'r') as jsonfile: \n",
    "    sub_data = json.load(jsonfile)"
   ]
  },
  {
   "cell_type": "markdown",
   "metadata": {},
   "source": [
    "## Plotting velocities"
   ]
  },
  {
   "cell_type": "code",
   "execution_count": null,
   "metadata": {},
   "outputs": [],
   "source": [
    "plt.plot(sub_data['vx'], label = \"vx\")\n",
    "plt.plot(sub_data['vy'], label = \"vy\")\n",
    "plt.plot(sub_data['wz'], label = \"wz\")\n",
    "\n",
    "plt.legend()"
   ]
  },
  {
   "cell_type": "code",
   "execution_count": null,
   "metadata": {},
   "outputs": [],
   "source": [
    "def calc_acc(vel, dt):\n",
    "    return [(v1 - v0)/dt for v1, v0 in zip(vel[1:], vel[:-1])]"
   ]
  },
  {
   "cell_type": "markdown",
   "metadata": {},
   "source": [
    "## Plotting accelerations"
   ]
  },
  {
   "cell_type": "code",
   "execution_count": null,
   "metadata": {},
   "outputs": [],
   "source": [
    "dt  = 0.1 \n",
    "ax      = calc_acc(sub_data['vx'], dt)\n",
    "ay      = calc_acc(sub_data['vy'], dt)\n",
    "alpha_x = calc_acc(sub_data['wz'], dt)\n",
    "\n",
    "plt.plot(ax, label = \"ax\")\n",
    "plt.plot(ay, label = \"ay\")\n",
    "plt.plot(alpha_x, label = \"alpha_z\")\n",
    "plt.legend()"
   ]
  }
 ],
 "metadata": {
  "interpreter": {
   "hash": "916dbcbb3f70747c44a77c7bcd40155683ae19c65e1c03b4aa3499c5328201f1"
  },
  "kernelspec": {
   "display_name": "Python 3.8.10 64-bit",
   "name": "python3"
  },
  "language_info": {
   "codemirror_mode": {
    "name": "ipython",
    "version": 3
   },
   "file_extension": ".py",
   "mimetype": "text/x-python",
   "name": "python",
   "nbconvert_exporter": "python",
   "pygments_lexer": "ipython3",
   "version": "3.8.10"
  },
  "orig_nbformat": 4
 },
 "nbformat": 4,
 "nbformat_minor": 2
}
